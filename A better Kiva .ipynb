{
 "cells": [
  {
   "cell_type": "markdown",
   "metadata": {},
   "source": [
    "# KIVA - HOW CAN WE HELP YOU TO BECOME A BETTER DATASET? "
   ]
  },
  {
   "cell_type": "markdown",
   "metadata": {},
   "source": [
    "### Dropping empty rows is no longer our #1 choice. Let's see how can our team patch up KIVA dataset base on our understanding and get it ready for the visualization & analytics parts later on. "
   ]
  },
  {
   "cell_type": "markdown",
   "metadata": {},
   "source": [
    "#### Structure: \n",
    "1. First observations\n",
    "2. Understanding Kiva workflow \n",
    "3. Data cleansing\n",
    "4. Data visualisation"
   ]
  },
  {
   "cell_type": "markdown",
   "metadata": {},
   "source": [
    "# I. First observation"
   ]
  },
  {
   "cell_type": "code",
   "execution_count": 1,
   "metadata": {},
   "outputs": [],
   "source": [
    "import numpy as np\n",
    "import pandas as pd\n",
    "import matplotlib.pyplot as plt\n",
    "import seaborn as sns"
   ]
  },
  {
   "cell_type": "code",
   "execution_count": 2,
   "metadata": {},
   "outputs": [],
   "source": [
    "data=pd.read_csv('kiva_loans.csv')"
   ]
  },
  {
   "cell_type": "code",
   "execution_count": 3,
   "metadata": {},
   "outputs": [
    {
     "data": {
      "text/html": [
       "<div>\n",
       "<style scoped>\n",
       "    .dataframe tbody tr th:only-of-type {\n",
       "        vertical-align: middle;\n",
       "    }\n",
       "\n",
       "    .dataframe tbody tr th {\n",
       "        vertical-align: top;\n",
       "    }\n",
       "\n",
       "    .dataframe thead th {\n",
       "        text-align: right;\n",
       "    }\n",
       "</style>\n",
       "<table border=\"1\" class=\"dataframe\">\n",
       "  <thead>\n",
       "    <tr style=\"text-align: right;\">\n",
       "      <th></th>\n",
       "      <th>id</th>\n",
       "      <th>funded_amount</th>\n",
       "      <th>loan_amount</th>\n",
       "      <th>activity</th>\n",
       "      <th>sector</th>\n",
       "      <th>use</th>\n",
       "      <th>country_code</th>\n",
       "      <th>country</th>\n",
       "      <th>region</th>\n",
       "      <th>currency</th>\n",
       "      <th>partner_id</th>\n",
       "      <th>posted_time</th>\n",
       "      <th>disbursed_time</th>\n",
       "      <th>funded_time</th>\n",
       "      <th>term_in_months</th>\n",
       "      <th>lender_count</th>\n",
       "      <th>tags</th>\n",
       "      <th>borrower_genders</th>\n",
       "      <th>repayment_interval</th>\n",
       "      <th>date</th>\n",
       "    </tr>\n",
       "  </thead>\n",
       "  <tbody>\n",
       "    <tr>\n",
       "      <th>0</th>\n",
       "      <td>653051</td>\n",
       "      <td>300.0</td>\n",
       "      <td>300.0</td>\n",
       "      <td>Fruits &amp; Vegetables</td>\n",
       "      <td>Food</td>\n",
       "      <td>To buy seasonal, fresh fruits to sell.</td>\n",
       "      <td>PK</td>\n",
       "      <td>Pakistan</td>\n",
       "      <td>Lahore</td>\n",
       "      <td>PKR</td>\n",
       "      <td>247.0</td>\n",
       "      <td>2014-01-01 06:12:39+00:00</td>\n",
       "      <td>2013-12-17 08:00:00+00:00</td>\n",
       "      <td>2014-01-02 10:06:32+00:00</td>\n",
       "      <td>12.0</td>\n",
       "      <td>12</td>\n",
       "      <td>NaN</td>\n",
       "      <td>female</td>\n",
       "      <td>irregular</td>\n",
       "      <td>2014-01-01</td>\n",
       "    </tr>\n",
       "    <tr>\n",
       "      <th>1</th>\n",
       "      <td>653053</td>\n",
       "      <td>575.0</td>\n",
       "      <td>575.0</td>\n",
       "      <td>Rickshaw</td>\n",
       "      <td>Transportation</td>\n",
       "      <td>to repair and maintain the auto rickshaw used ...</td>\n",
       "      <td>PK</td>\n",
       "      <td>Pakistan</td>\n",
       "      <td>Lahore</td>\n",
       "      <td>PKR</td>\n",
       "      <td>247.0</td>\n",
       "      <td>2014-01-01 06:51:08+00:00</td>\n",
       "      <td>2013-12-17 08:00:00+00:00</td>\n",
       "      <td>2014-01-02 09:17:23+00:00</td>\n",
       "      <td>11.0</td>\n",
       "      <td>14</td>\n",
       "      <td>NaN</td>\n",
       "      <td>female, female</td>\n",
       "      <td>irregular</td>\n",
       "      <td>2014-01-01</td>\n",
       "    </tr>\n",
       "    <tr>\n",
       "      <th>2</th>\n",
       "      <td>653068</td>\n",
       "      <td>150.0</td>\n",
       "      <td>150.0</td>\n",
       "      <td>Transportation</td>\n",
       "      <td>Transportation</td>\n",
       "      <td>To repair their old cycle-van and buy another ...</td>\n",
       "      <td>IN</td>\n",
       "      <td>India</td>\n",
       "      <td>Maynaguri</td>\n",
       "      <td>INR</td>\n",
       "      <td>334.0</td>\n",
       "      <td>2014-01-01 09:58:07+00:00</td>\n",
       "      <td>2013-12-17 08:00:00+00:00</td>\n",
       "      <td>2014-01-01 16:01:36+00:00</td>\n",
       "      <td>43.0</td>\n",
       "      <td>6</td>\n",
       "      <td>user_favorite, user_favorite</td>\n",
       "      <td>female</td>\n",
       "      <td>bullet</td>\n",
       "      <td>2014-01-01</td>\n",
       "    </tr>\n",
       "  </tbody>\n",
       "</table>\n",
       "</div>"
      ],
      "text/plain": [
       "       id  funded_amount  loan_amount             activity          sector  \\\n",
       "0  653051          300.0        300.0  Fruits & Vegetables            Food   \n",
       "1  653053          575.0        575.0             Rickshaw  Transportation   \n",
       "2  653068          150.0        150.0       Transportation  Transportation   \n",
       "\n",
       "                                                 use country_code   country  \\\n",
       "0            To buy seasonal, fresh fruits to sell.            PK  Pakistan   \n",
       "1  to repair and maintain the auto rickshaw used ...           PK  Pakistan   \n",
       "2  To repair their old cycle-van and buy another ...           IN     India   \n",
       "\n",
       "      region currency  partner_id                posted_time  \\\n",
       "0     Lahore      PKR       247.0  2014-01-01 06:12:39+00:00   \n",
       "1     Lahore      PKR       247.0  2014-01-01 06:51:08+00:00   \n",
       "2  Maynaguri      INR       334.0  2014-01-01 09:58:07+00:00   \n",
       "\n",
       "              disbursed_time                funded_time  term_in_months  \\\n",
       "0  2013-12-17 08:00:00+00:00  2014-01-02 10:06:32+00:00            12.0   \n",
       "1  2013-12-17 08:00:00+00:00  2014-01-02 09:17:23+00:00            11.0   \n",
       "2  2013-12-17 08:00:00+00:00  2014-01-01 16:01:36+00:00            43.0   \n",
       "\n",
       "   lender_count                          tags borrower_genders  \\\n",
       "0            12                           NaN           female   \n",
       "1            14                           NaN   female, female   \n",
       "2             6  user_favorite, user_favorite           female   \n",
       "\n",
       "  repayment_interval        date  \n",
       "0          irregular  2014-01-01  \n",
       "1          irregular  2014-01-01  \n",
       "2             bullet  2014-01-01  "
      ]
     },
     "execution_count": 3,
     "metadata": {},
     "output_type": "execute_result"
    }
   ],
   "source": [
    "data.head(3)"
   ]
  },
  {
   "cell_type": "code",
   "execution_count": 5,
   "metadata": {},
   "outputs": [
    {
     "data": {
      "text/plain": [
       "(671205, 20)"
      ]
     },
     "execution_count": 5,
     "metadata": {},
     "output_type": "execute_result"
    }
   ],
   "source": [
    "data.shape"
   ]
  },
  {
   "cell_type": "code",
   "execution_count": 6,
   "metadata": {},
   "outputs": [
    {
     "data": {
      "text/html": [
       "<div>\n",
       "<style scoped>\n",
       "    .dataframe tbody tr th:only-of-type {\n",
       "        vertical-align: middle;\n",
       "    }\n",
       "\n",
       "    .dataframe tbody tr th {\n",
       "        vertical-align: top;\n",
       "    }\n",
       "\n",
       "    .dataframe thead th {\n",
       "        text-align: right;\n",
       "    }\n",
       "</style>\n",
       "<table border=\"1\" class=\"dataframe\">\n",
       "  <thead>\n",
       "    <tr style=\"text-align: right;\">\n",
       "      <th></th>\n",
       "      <th>id</th>\n",
       "      <th>funded_amount</th>\n",
       "      <th>loan_amount</th>\n",
       "      <th>activity</th>\n",
       "      <th>sector</th>\n",
       "      <th>use</th>\n",
       "      <th>country_code</th>\n",
       "      <th>country</th>\n",
       "      <th>region</th>\n",
       "      <th>currency</th>\n",
       "      <th>partner_id</th>\n",
       "      <th>posted_time</th>\n",
       "      <th>disbursed_time</th>\n",
       "      <th>funded_time</th>\n",
       "      <th>term_in_months</th>\n",
       "      <th>lender_count</th>\n",
       "      <th>tags</th>\n",
       "      <th>borrower_genders</th>\n",
       "      <th>repayment_interval</th>\n",
       "      <th>date</th>\n",
       "    </tr>\n",
       "  </thead>\n",
       "  <tbody>\n",
       "    <tr>\n",
       "      <th>count</th>\n",
       "      <td>6.712050e+05</td>\n",
       "      <td>671205.000000</td>\n",
       "      <td>671205.000000</td>\n",
       "      <td>671205</td>\n",
       "      <td>671205</td>\n",
       "      <td>666973</td>\n",
       "      <td>671197</td>\n",
       "      <td>671205</td>\n",
       "      <td>614405</td>\n",
       "      <td>671205</td>\n",
       "      <td>657698.000000</td>\n",
       "      <td>671205</td>\n",
       "      <td>668809</td>\n",
       "      <td>622874</td>\n",
       "      <td>671205.000000</td>\n",
       "      <td>671205.000000</td>\n",
       "      <td>499789</td>\n",
       "      <td>666984</td>\n",
       "      <td>671205</td>\n",
       "      <td>671205</td>\n",
       "    </tr>\n",
       "    <tr>\n",
       "      <th>unique</th>\n",
       "      <td>NaN</td>\n",
       "      <td>NaN</td>\n",
       "      <td>NaN</td>\n",
       "      <td>163</td>\n",
       "      <td>15</td>\n",
       "      <td>424912</td>\n",
       "      <td>86</td>\n",
       "      <td>87</td>\n",
       "      <td>12695</td>\n",
       "      <td>67</td>\n",
       "      <td>NaN</td>\n",
       "      <td>667399</td>\n",
       "      <td>5719</td>\n",
       "      <td>498007</td>\n",
       "      <td>NaN</td>\n",
       "      <td>NaN</td>\n",
       "      <td>86719</td>\n",
       "      <td>11298</td>\n",
       "      <td>4</td>\n",
       "      <td>1298</td>\n",
       "    </tr>\n",
       "    <tr>\n",
       "      <th>top</th>\n",
       "      <td>NaN</td>\n",
       "      <td>NaN</td>\n",
       "      <td>NaN</td>\n",
       "      <td>Farming</td>\n",
       "      <td>Agriculture</td>\n",
       "      <td>to buy a water filter to provide safe drinking...</td>\n",
       "      <td>PH</td>\n",
       "      <td>Philippines</td>\n",
       "      <td>Kaduna</td>\n",
       "      <td>PHP</td>\n",
       "      <td>NaN</td>\n",
       "      <td>2017-05-15 00:00:00+00:00</td>\n",
       "      <td>2017-02-01 08:00:00+00:00</td>\n",
       "      <td>2016-09-21 13:03:24+00:00</td>\n",
       "      <td>NaN</td>\n",
       "      <td>NaN</td>\n",
       "      <td>user_favorite</td>\n",
       "      <td>female</td>\n",
       "      <td>monthly</td>\n",
       "      <td>2017-03-20</td>\n",
       "    </tr>\n",
       "    <tr>\n",
       "      <th>freq</th>\n",
       "      <td>NaN</td>\n",
       "      <td>NaN</td>\n",
       "      <td>NaN</td>\n",
       "      <td>72955</td>\n",
       "      <td>180302</td>\n",
       "      <td>5217</td>\n",
       "      <td>160441</td>\n",
       "      <td>160441</td>\n",
       "      <td>10000</td>\n",
       "      <td>160440</td>\n",
       "      <td>NaN</td>\n",
       "      <td>25</td>\n",
       "      <td>2800</td>\n",
       "      <td>33</td>\n",
       "      <td>NaN</td>\n",
       "      <td>NaN</td>\n",
       "      <td>27088</td>\n",
       "      <td>426502</td>\n",
       "      <td>342717</td>\n",
       "      <td>1308</td>\n",
       "    </tr>\n",
       "    <tr>\n",
       "      <th>mean</th>\n",
       "      <td>9.932486e+05</td>\n",
       "      <td>785.995061</td>\n",
       "      <td>842.397107</td>\n",
       "      <td>NaN</td>\n",
       "      <td>NaN</td>\n",
       "      <td>NaN</td>\n",
       "      <td>NaN</td>\n",
       "      <td>NaN</td>\n",
       "      <td>NaN</td>\n",
       "      <td>NaN</td>\n",
       "      <td>178.199616</td>\n",
       "      <td>NaN</td>\n",
       "      <td>NaN</td>\n",
       "      <td>NaN</td>\n",
       "      <td>13.739022</td>\n",
       "      <td>20.590922</td>\n",
       "      <td>NaN</td>\n",
       "      <td>NaN</td>\n",
       "      <td>NaN</td>\n",
       "      <td>NaN</td>\n",
       "    </tr>\n",
       "    <tr>\n",
       "      <th>std</th>\n",
       "      <td>1.966113e+05</td>\n",
       "      <td>1130.398941</td>\n",
       "      <td>1198.660073</td>\n",
       "      <td>NaN</td>\n",
       "      <td>NaN</td>\n",
       "      <td>NaN</td>\n",
       "      <td>NaN</td>\n",
       "      <td>NaN</td>\n",
       "      <td>NaN</td>\n",
       "      <td>NaN</td>\n",
       "      <td>94.247581</td>\n",
       "      <td>NaN</td>\n",
       "      <td>NaN</td>\n",
       "      <td>NaN</td>\n",
       "      <td>8.598919</td>\n",
       "      <td>28.459551</td>\n",
       "      <td>NaN</td>\n",
       "      <td>NaN</td>\n",
       "      <td>NaN</td>\n",
       "      <td>NaN</td>\n",
       "    </tr>\n",
       "    <tr>\n",
       "      <th>min</th>\n",
       "      <td>6.530470e+05</td>\n",
       "      <td>0.000000</td>\n",
       "      <td>25.000000</td>\n",
       "      <td>NaN</td>\n",
       "      <td>NaN</td>\n",
       "      <td>NaN</td>\n",
       "      <td>NaN</td>\n",
       "      <td>NaN</td>\n",
       "      <td>NaN</td>\n",
       "      <td>NaN</td>\n",
       "      <td>9.000000</td>\n",
       "      <td>NaN</td>\n",
       "      <td>NaN</td>\n",
       "      <td>NaN</td>\n",
       "      <td>1.000000</td>\n",
       "      <td>0.000000</td>\n",
       "      <td>NaN</td>\n",
       "      <td>NaN</td>\n",
       "      <td>NaN</td>\n",
       "      <td>NaN</td>\n",
       "    </tr>\n",
       "    <tr>\n",
       "      <th>25%</th>\n",
       "      <td>8.230720e+05</td>\n",
       "      <td>250.000000</td>\n",
       "      <td>275.000000</td>\n",
       "      <td>NaN</td>\n",
       "      <td>NaN</td>\n",
       "      <td>NaN</td>\n",
       "      <td>NaN</td>\n",
       "      <td>NaN</td>\n",
       "      <td>NaN</td>\n",
       "      <td>NaN</td>\n",
       "      <td>126.000000</td>\n",
       "      <td>NaN</td>\n",
       "      <td>NaN</td>\n",
       "      <td>NaN</td>\n",
       "      <td>8.000000</td>\n",
       "      <td>7.000000</td>\n",
       "      <td>NaN</td>\n",
       "      <td>NaN</td>\n",
       "      <td>NaN</td>\n",
       "      <td>NaN</td>\n",
       "    </tr>\n",
       "    <tr>\n",
       "      <th>50%</th>\n",
       "      <td>9.927800e+05</td>\n",
       "      <td>450.000000</td>\n",
       "      <td>500.000000</td>\n",
       "      <td>NaN</td>\n",
       "      <td>NaN</td>\n",
       "      <td>NaN</td>\n",
       "      <td>NaN</td>\n",
       "      <td>NaN</td>\n",
       "      <td>NaN</td>\n",
       "      <td>NaN</td>\n",
       "      <td>145.000000</td>\n",
       "      <td>NaN</td>\n",
       "      <td>NaN</td>\n",
       "      <td>NaN</td>\n",
       "      <td>13.000000</td>\n",
       "      <td>13.000000</td>\n",
       "      <td>NaN</td>\n",
       "      <td>NaN</td>\n",
       "      <td>NaN</td>\n",
       "      <td>NaN</td>\n",
       "    </tr>\n",
       "    <tr>\n",
       "      <th>75%</th>\n",
       "      <td>1.163653e+06</td>\n",
       "      <td>900.000000</td>\n",
       "      <td>1000.000000</td>\n",
       "      <td>NaN</td>\n",
       "      <td>NaN</td>\n",
       "      <td>NaN</td>\n",
       "      <td>NaN</td>\n",
       "      <td>NaN</td>\n",
       "      <td>NaN</td>\n",
       "      <td>NaN</td>\n",
       "      <td>204.000000</td>\n",
       "      <td>NaN</td>\n",
       "      <td>NaN</td>\n",
       "      <td>NaN</td>\n",
       "      <td>14.000000</td>\n",
       "      <td>24.000000</td>\n",
       "      <td>NaN</td>\n",
       "      <td>NaN</td>\n",
       "      <td>NaN</td>\n",
       "      <td>NaN</td>\n",
       "    </tr>\n",
       "    <tr>\n",
       "      <th>max</th>\n",
       "      <td>1.340339e+06</td>\n",
       "      <td>100000.000000</td>\n",
       "      <td>100000.000000</td>\n",
       "      <td>NaN</td>\n",
       "      <td>NaN</td>\n",
       "      <td>NaN</td>\n",
       "      <td>NaN</td>\n",
       "      <td>NaN</td>\n",
       "      <td>NaN</td>\n",
       "      <td>NaN</td>\n",
       "      <td>536.000000</td>\n",
       "      <td>NaN</td>\n",
       "      <td>NaN</td>\n",
       "      <td>NaN</td>\n",
       "      <td>158.000000</td>\n",
       "      <td>2986.000000</td>\n",
       "      <td>NaN</td>\n",
       "      <td>NaN</td>\n",
       "      <td>NaN</td>\n",
       "      <td>NaN</td>\n",
       "    </tr>\n",
       "  </tbody>\n",
       "</table>\n",
       "</div>"
      ],
      "text/plain": [
       "                  id  funded_amount    loan_amount activity       sector  \\\n",
       "count   6.712050e+05  671205.000000  671205.000000   671205       671205   \n",
       "unique           NaN            NaN            NaN      163           15   \n",
       "top              NaN            NaN            NaN  Farming  Agriculture   \n",
       "freq             NaN            NaN            NaN    72955       180302   \n",
       "mean    9.932486e+05     785.995061     842.397107      NaN          NaN   \n",
       "std     1.966113e+05    1130.398941    1198.660073      NaN          NaN   \n",
       "min     6.530470e+05       0.000000      25.000000      NaN          NaN   \n",
       "25%     8.230720e+05     250.000000     275.000000      NaN          NaN   \n",
       "50%     9.927800e+05     450.000000     500.000000      NaN          NaN   \n",
       "75%     1.163653e+06     900.000000    1000.000000      NaN          NaN   \n",
       "max     1.340339e+06  100000.000000  100000.000000      NaN          NaN   \n",
       "\n",
       "                                                      use country_code  \\\n",
       "count                                              666973       671197   \n",
       "unique                                             424912           86   \n",
       "top     to buy a water filter to provide safe drinking...           PH   \n",
       "freq                                                 5217       160441   \n",
       "mean                                                  NaN          NaN   \n",
       "std                                                   NaN          NaN   \n",
       "min                                                   NaN          NaN   \n",
       "25%                                                   NaN          NaN   \n",
       "50%                                                   NaN          NaN   \n",
       "75%                                                   NaN          NaN   \n",
       "max                                                   NaN          NaN   \n",
       "\n",
       "            country  region currency     partner_id  \\\n",
       "count        671205  614405   671205  657698.000000   \n",
       "unique           87   12695       67            NaN   \n",
       "top     Philippines  Kaduna      PHP            NaN   \n",
       "freq         160441   10000   160440            NaN   \n",
       "mean            NaN     NaN      NaN     178.199616   \n",
       "std             NaN     NaN      NaN      94.247581   \n",
       "min             NaN     NaN      NaN       9.000000   \n",
       "25%             NaN     NaN      NaN     126.000000   \n",
       "50%             NaN     NaN      NaN     145.000000   \n",
       "75%             NaN     NaN      NaN     204.000000   \n",
       "max             NaN     NaN      NaN     536.000000   \n",
       "\n",
       "                      posted_time             disbursed_time  \\\n",
       "count                      671205                     668809   \n",
       "unique                     667399                       5719   \n",
       "top     2017-05-15 00:00:00+00:00  2017-02-01 08:00:00+00:00   \n",
       "freq                           25                       2800   \n",
       "mean                          NaN                        NaN   \n",
       "std                           NaN                        NaN   \n",
       "min                           NaN                        NaN   \n",
       "25%                           NaN                        NaN   \n",
       "50%                           NaN                        NaN   \n",
       "75%                           NaN                        NaN   \n",
       "max                           NaN                        NaN   \n",
       "\n",
       "                      funded_time  term_in_months   lender_count  \\\n",
       "count                      622874   671205.000000  671205.000000   \n",
       "unique                     498007             NaN            NaN   \n",
       "top     2016-09-21 13:03:24+00:00             NaN            NaN   \n",
       "freq                           33             NaN            NaN   \n",
       "mean                          NaN       13.739022      20.590922   \n",
       "std                           NaN        8.598919      28.459551   \n",
       "min                           NaN        1.000000       0.000000   \n",
       "25%                           NaN        8.000000       7.000000   \n",
       "50%                           NaN       13.000000      13.000000   \n",
       "75%                           NaN       14.000000      24.000000   \n",
       "max                           NaN      158.000000    2986.000000   \n",
       "\n",
       "                 tags borrower_genders repayment_interval        date  \n",
       "count          499789           666984             671205      671205  \n",
       "unique          86719            11298                  4        1298  \n",
       "top     user_favorite           female            monthly  2017-03-20  \n",
       "freq            27088           426502             342717        1308  \n",
       "mean              NaN              NaN                NaN         NaN  \n",
       "std               NaN              NaN                NaN         NaN  \n",
       "min               NaN              NaN                NaN         NaN  \n",
       "25%               NaN              NaN                NaN         NaN  \n",
       "50%               NaN              NaN                NaN         NaN  \n",
       "75%               NaN              NaN                NaN         NaN  \n",
       "max               NaN              NaN                NaN         NaN  "
      ]
     },
     "execution_count": 6,
     "metadata": {},
     "output_type": "execute_result"
    }
   ],
   "source": [
    "data.describe(include='all')"
   ]
  },
  {
   "cell_type": "code",
   "execution_count": 7,
   "metadata": {},
   "outputs": [
    {
     "data": {
      "text/plain": [
       "(0, 20)"
      ]
     },
     "execution_count": 7,
     "metadata": {},
     "output_type": "execute_result"
    }
   ],
   "source": [
    "# Check duplicated row\n",
    "duplicate = data[data.duplicated()]\n",
    "duplicate.shape"
   ]
  },
  {
   "cell_type": "markdown",
   "metadata": {},
   "source": [
    "Ok, không có dòng nào bị duplicate. "
   ]
  },
  {
   "cell_type": "code",
   "execution_count": 8,
   "metadata": {},
   "outputs": [
    {
     "data": {
      "text/plain": [
       "id                      int64\n",
       "funded_amount         float64\n",
       "loan_amount           float64\n",
       "activity               object\n",
       "sector                 object\n",
       "use                    object\n",
       "country_code           object\n",
       "country                object\n",
       "region                 object\n",
       "currency               object\n",
       "partner_id            float64\n",
       "posted_time            object\n",
       "disbursed_time         object\n",
       "funded_time            object\n",
       "term_in_months        float64\n",
       "lender_count            int64\n",
       "tags                   object\n",
       "borrower_genders       object\n",
       "repayment_interval     object\n",
       "date                   object\n",
       "dtype: object"
      ]
     },
     "execution_count": 8,
     "metadata": {},
     "output_type": "execute_result"
    }
   ],
   "source": [
    "data.dtypes"
   ]
  },
  {
   "cell_type": "code",
   "execution_count": 9,
   "metadata": {},
   "outputs": [
    {
     "data": {
      "text/plain": [
       "tags                  171416\n",
       "region                 56800\n",
       "funded_time            48331\n",
       "partner_id             13507\n",
       "use                     4232\n",
       "borrower_genders        4221\n",
       "disbursed_time          2396\n",
       "country_code               8\n",
       "date                       0\n",
       "funded_amount              0\n",
       "loan_amount                0\n",
       "activity                   0\n",
       "sector                     0\n",
       "currency                   0\n",
       "country                    0\n",
       "repayment_interval         0\n",
       "posted_time                0\n",
       "term_in_months             0\n",
       "lender_count               0\n",
       "id                         0\n",
       "dtype: int64"
      ]
     },
     "execution_count": 9,
     "metadata": {},
     "output_type": "execute_result"
    }
   ],
   "source": [
    "# Check missing values of each columns\n",
    "data.isnull().sum().sort_values(ascending=False)"
   ]
  },
  {
   "cell_type": "code",
   "execution_count": 10,
   "metadata": {},
   "outputs": [],
   "source": [
    "# Observe each columns to see what's the problem of missing value there:"
   ]
  },
  {
   "cell_type": "code",
   "execution_count": 11,
   "metadata": {},
   "outputs": [
    {
     "data": {
      "text/plain": [
       "86719"
      ]
     },
     "execution_count": 11,
     "metadata": {},
     "output_type": "execute_result"
    }
   ],
   "source": [
    "# 1. Tags column\n",
    "data['tags'].nunique()"
   ]
  },
  {
   "cell_type": "code",
   "execution_count": 12,
   "metadata": {},
   "outputs": [
    {
     "data": {
      "text/plain": [
       "0                             NaN\n",
       "1                             NaN\n",
       "2    user_favorite, user_favorite\n",
       "3                             NaN\n",
       "4                             NaN\n",
       "5                             NaN\n",
       "6    user_favorite, user_favorite\n",
       "7      #Elderly, #Woman Owned Biz\n",
       "8                   user_favorite\n",
       "9                             NaN\n",
       "Name: tags, dtype: object"
      ]
     },
     "execution_count": 12,
     "metadata": {},
     "output_type": "execute_result"
    }
   ],
   "source": [
    "data['tags'].head(10)"
   ]
  },
  {
   "cell_type": "markdown",
   "metadata": {},
   "source": [
    "#### Obv1:\n",
    "- Tags là cột optional, người sử dụng tự nghĩ ra tags (giống hashtag) để type vào. Là cột thiếu nhiều nhất nhưng ko quan trọng vì có thể xác định chéo bằng các cột khác như sector/activity/use. \n",
    "- Use: same as Tags"
   ]
  },
  {
   "cell_type": "code",
   "execution_count": 13,
   "metadata": {},
   "outputs": [
    {
     "data": {
      "text/html": [
       "<div>\n",
       "<style scoped>\n",
       "    .dataframe tbody tr th:only-of-type {\n",
       "        vertical-align: middle;\n",
       "    }\n",
       "\n",
       "    .dataframe tbody tr th {\n",
       "        vertical-align: top;\n",
       "    }\n",
       "\n",
       "    .dataframe thead th {\n",
       "        text-align: right;\n",
       "    }\n",
       "</style>\n",
       "<table border=\"1\" class=\"dataframe\">\n",
       "  <thead>\n",
       "    <tr style=\"text-align: right;\">\n",
       "      <th></th>\n",
       "      <th>id</th>\n",
       "      <th>funded_amount</th>\n",
       "      <th>loan_amount</th>\n",
       "      <th>activity</th>\n",
       "      <th>sector</th>\n",
       "      <th>use</th>\n",
       "      <th>country_code</th>\n",
       "      <th>country</th>\n",
       "      <th>region</th>\n",
       "      <th>currency</th>\n",
       "      <th>partner_id</th>\n",
       "      <th>posted_time</th>\n",
       "      <th>disbursed_time</th>\n",
       "      <th>funded_time</th>\n",
       "      <th>term_in_months</th>\n",
       "      <th>lender_count</th>\n",
       "      <th>tags</th>\n",
       "      <th>borrower_genders</th>\n",
       "      <th>repayment_interval</th>\n",
       "      <th>date</th>\n",
       "    </tr>\n",
       "  </thead>\n",
       "  <tbody>\n",
       "    <tr>\n",
       "      <th>202537</th>\n",
       "      <td>851360</td>\n",
       "      <td>4150.0</td>\n",
       "      <td>4150.0</td>\n",
       "      <td>Wholesale</td>\n",
       "      <td>Wholesale</td>\n",
       "      <td>To purchase lighting products for sale to loca...</td>\n",
       "      <td>NaN</td>\n",
       "      <td>Namibia</td>\n",
       "      <td>EEnhana</td>\n",
       "      <td>NAD</td>\n",
       "      <td>437.0</td>\n",
       "      <td>2015-03-05 20:23:50+00:00</td>\n",
       "      <td>2015-06-03 07:00:00+00:00</td>\n",
       "      <td>2015-03-25 15:10:03+00:00</td>\n",
       "      <td>6.0</td>\n",
       "      <td>162</td>\n",
       "      <td>user_favorite, user_favorite</td>\n",
       "      <td>female</td>\n",
       "      <td>bullet</td>\n",
       "      <td>2015-03-05</td>\n",
       "    </tr>\n",
       "    <tr>\n",
       "      <th>202823</th>\n",
       "      <td>851368</td>\n",
       "      <td>4150.0</td>\n",
       "      <td>4150.0</td>\n",
       "      <td>Wholesale</td>\n",
       "      <td>Wholesale</td>\n",
       "      <td>To purchase lighting products for sale to loca...</td>\n",
       "      <td>NaN</td>\n",
       "      <td>Namibia</td>\n",
       "      <td>Rundu</td>\n",
       "      <td>NAD</td>\n",
       "      <td>437.0</td>\n",
       "      <td>2015-03-05 20:56:01+00:00</td>\n",
       "      <td>2015-06-03 07:00:00+00:00</td>\n",
       "      <td>2015-03-25 15:48:31+00:00</td>\n",
       "      <td>6.0</td>\n",
       "      <td>159</td>\n",
       "      <td>user_favorite</td>\n",
       "      <td>male</td>\n",
       "      <td>bullet</td>\n",
       "      <td>2015-03-05</td>\n",
       "    </tr>\n",
       "    <tr>\n",
       "      <th>344929</th>\n",
       "      <td>991853</td>\n",
       "      <td>3325.0</td>\n",
       "      <td>3325.0</td>\n",
       "      <td>Wholesale</td>\n",
       "      <td>Wholesale</td>\n",
       "      <td>To purchase lighting products for sale to loca...</td>\n",
       "      <td>NaN</td>\n",
       "      <td>Namibia</td>\n",
       "      <td>EEnhana</td>\n",
       "      <td>NAD</td>\n",
       "      <td>437.0</td>\n",
       "      <td>2015-12-08 19:08:18+00:00</td>\n",
       "      <td>2016-01-05 08:00:00+00:00</td>\n",
       "      <td>2015-12-22 03:53:32+00:00</td>\n",
       "      <td>7.0</td>\n",
       "      <td>120</td>\n",
       "      <td>user_favorite</td>\n",
       "      <td>female</td>\n",
       "      <td>bullet</td>\n",
       "      <td>2015-12-08</td>\n",
       "    </tr>\n",
       "    <tr>\n",
       "      <th>351177</th>\n",
       "      <td>998555</td>\n",
       "      <td>3325.0</td>\n",
       "      <td>3325.0</td>\n",
       "      <td>Wholesale</td>\n",
       "      <td>Wholesale</td>\n",
       "      <td>To purchase lighting products for sale to loca...</td>\n",
       "      <td>NaN</td>\n",
       "      <td>Namibia</td>\n",
       "      <td>Rundu</td>\n",
       "      <td>NAD</td>\n",
       "      <td>437.0</td>\n",
       "      <td>2015-12-21 19:59:37+00:00</td>\n",
       "      <td>2016-01-05 08:00:00+00:00</td>\n",
       "      <td>2015-12-22 05:58:09+00:00</td>\n",
       "      <td>7.0</td>\n",
       "      <td>126</td>\n",
       "      <td>NaN</td>\n",
       "      <td>male</td>\n",
       "      <td>bullet</td>\n",
       "      <td>2015-12-21</td>\n",
       "    </tr>\n",
       "    <tr>\n",
       "      <th>420953</th>\n",
       "      <td>1068167</td>\n",
       "      <td>3325.0</td>\n",
       "      <td>3325.0</td>\n",
       "      <td>Wholesale</td>\n",
       "      <td>Wholesale</td>\n",
       "      <td>To purchase lighting products for sale to loca...</td>\n",
       "      <td>NaN</td>\n",
       "      <td>Namibia</td>\n",
       "      <td>EEnhana</td>\n",
       "      <td>NAD</td>\n",
       "      <td>437.0</td>\n",
       "      <td>2016-05-12 21:33:33+00:00</td>\n",
       "      <td>2016-06-10 07:00:00+00:00</td>\n",
       "      <td>2016-05-15 20:27:57+00:00</td>\n",
       "      <td>7.0</td>\n",
       "      <td>118</td>\n",
       "      <td>#Repeat Borrower, user_favorite, user_favorite...</td>\n",
       "      <td>female</td>\n",
       "      <td>bullet</td>\n",
       "      <td>2016-05-12</td>\n",
       "    </tr>\n",
       "    <tr>\n",
       "      <th>421218</th>\n",
       "      <td>1068159</td>\n",
       "      <td>4000.0</td>\n",
       "      <td>4000.0</td>\n",
       "      <td>Wholesale</td>\n",
       "      <td>Wholesale</td>\n",
       "      <td>purchase solar lighting products for sale to l...</td>\n",
       "      <td>NaN</td>\n",
       "      <td>Namibia</td>\n",
       "      <td>Rundu</td>\n",
       "      <td>NAD</td>\n",
       "      <td>437.0</td>\n",
       "      <td>2016-05-12 21:19:41+00:00</td>\n",
       "      <td>2016-06-10 07:00:00+00:00</td>\n",
       "      <td>2016-05-15 17:36:49+00:00</td>\n",
       "      <td>7.0</td>\n",
       "      <td>150</td>\n",
       "      <td>#Eco-friendly, #Repeat Borrower, #Technology, ...</td>\n",
       "      <td>male</td>\n",
       "      <td>bullet</td>\n",
       "      <td>2016-05-12</td>\n",
       "    </tr>\n",
       "    <tr>\n",
       "      <th>487207</th>\n",
       "      <td>1147852</td>\n",
       "      <td>5100.0</td>\n",
       "      <td>5100.0</td>\n",
       "      <td>Renewable Energy Products</td>\n",
       "      <td>Retail</td>\n",
       "      <td>to pay for stock of solar lights and cell phon...</td>\n",
       "      <td>NaN</td>\n",
       "      <td>Namibia</td>\n",
       "      <td>Katima Mulilo</td>\n",
       "      <td>NAD</td>\n",
       "      <td>437.0</td>\n",
       "      <td>2016-09-08 22:12:16+00:00</td>\n",
       "      <td>2016-10-01 07:00:00+00:00</td>\n",
       "      <td>2016-10-03 21:56:37+00:00</td>\n",
       "      <td>7.0</td>\n",
       "      <td>183</td>\n",
       "      <td>#Eco-friendly, #Technology, user_favorite, use...</td>\n",
       "      <td>male</td>\n",
       "      <td>bullet</td>\n",
       "      <td>2016-09-08</td>\n",
       "    </tr>\n",
       "    <tr>\n",
       "      <th>487653</th>\n",
       "      <td>1147866</td>\n",
       "      <td>5000.0</td>\n",
       "      <td>5000.0</td>\n",
       "      <td>Wholesale</td>\n",
       "      <td>Wholesale</td>\n",
       "      <td>to maintain a stock of solar lights and cell p...</td>\n",
       "      <td>NaN</td>\n",
       "      <td>Namibia</td>\n",
       "      <td>Oshakati</td>\n",
       "      <td>NAD</td>\n",
       "      <td>437.0</td>\n",
       "      <td>2016-09-08 22:30:43+00:00</td>\n",
       "      <td>2016-10-01 07:00:00+00:00</td>\n",
       "      <td>2016-09-19 06:32:16+00:00</td>\n",
       "      <td>7.0</td>\n",
       "      <td>183</td>\n",
       "      <td>#Eco-friendly, #Technology, user_favorite, use...</td>\n",
       "      <td>female</td>\n",
       "      <td>bullet</td>\n",
       "      <td>2016-09-08</td>\n",
       "    </tr>\n",
       "  </tbody>\n",
       "</table>\n",
       "</div>"
      ],
      "text/plain": [
       "             id  funded_amount  loan_amount                   activity  \\\n",
       "202537   851360         4150.0       4150.0                  Wholesale   \n",
       "202823   851368         4150.0       4150.0                  Wholesale   \n",
       "344929   991853         3325.0       3325.0                  Wholesale   \n",
       "351177   998555         3325.0       3325.0                  Wholesale   \n",
       "420953  1068167         3325.0       3325.0                  Wholesale   \n",
       "421218  1068159         4000.0       4000.0                  Wholesale   \n",
       "487207  1147852         5100.0       5100.0  Renewable Energy Products   \n",
       "487653  1147866         5000.0       5000.0                  Wholesale   \n",
       "\n",
       "           sector                                                use  \\\n",
       "202537  Wholesale  To purchase lighting products for sale to loca...   \n",
       "202823  Wholesale  To purchase lighting products for sale to loca...   \n",
       "344929  Wholesale  To purchase lighting products for sale to loca...   \n",
       "351177  Wholesale  To purchase lighting products for sale to loca...   \n",
       "420953  Wholesale  To purchase lighting products for sale to loca...   \n",
       "421218  Wholesale  purchase solar lighting products for sale to l...   \n",
       "487207     Retail  to pay for stock of solar lights and cell phon...   \n",
       "487653  Wholesale  to maintain a stock of solar lights and cell p...   \n",
       "\n",
       "       country_code  country         region currency  partner_id  \\\n",
       "202537          NaN  Namibia        EEnhana      NAD       437.0   \n",
       "202823          NaN  Namibia          Rundu      NAD       437.0   \n",
       "344929          NaN  Namibia        EEnhana      NAD       437.0   \n",
       "351177          NaN  Namibia          Rundu      NAD       437.0   \n",
       "420953          NaN  Namibia        EEnhana      NAD       437.0   \n",
       "421218          NaN  Namibia          Rundu      NAD       437.0   \n",
       "487207          NaN  Namibia  Katima Mulilo      NAD       437.0   \n",
       "487653          NaN  Namibia       Oshakati      NAD       437.0   \n",
       "\n",
       "                      posted_time             disbursed_time  \\\n",
       "202537  2015-03-05 20:23:50+00:00  2015-06-03 07:00:00+00:00   \n",
       "202823  2015-03-05 20:56:01+00:00  2015-06-03 07:00:00+00:00   \n",
       "344929  2015-12-08 19:08:18+00:00  2016-01-05 08:00:00+00:00   \n",
       "351177  2015-12-21 19:59:37+00:00  2016-01-05 08:00:00+00:00   \n",
       "420953  2016-05-12 21:33:33+00:00  2016-06-10 07:00:00+00:00   \n",
       "421218  2016-05-12 21:19:41+00:00  2016-06-10 07:00:00+00:00   \n",
       "487207  2016-09-08 22:12:16+00:00  2016-10-01 07:00:00+00:00   \n",
       "487653  2016-09-08 22:30:43+00:00  2016-10-01 07:00:00+00:00   \n",
       "\n",
       "                      funded_time  term_in_months  lender_count  \\\n",
       "202537  2015-03-25 15:10:03+00:00             6.0           162   \n",
       "202823  2015-03-25 15:48:31+00:00             6.0           159   \n",
       "344929  2015-12-22 03:53:32+00:00             7.0           120   \n",
       "351177  2015-12-22 05:58:09+00:00             7.0           126   \n",
       "420953  2016-05-15 20:27:57+00:00             7.0           118   \n",
       "421218  2016-05-15 17:36:49+00:00             7.0           150   \n",
       "487207  2016-10-03 21:56:37+00:00             7.0           183   \n",
       "487653  2016-09-19 06:32:16+00:00             7.0           183   \n",
       "\n",
       "                                                     tags borrower_genders  \\\n",
       "202537                       user_favorite, user_favorite           female   \n",
       "202823                                      user_favorite             male   \n",
       "344929                                      user_favorite           female   \n",
       "351177                                                NaN             male   \n",
       "420953  #Repeat Borrower, user_favorite, user_favorite...           female   \n",
       "421218  #Eco-friendly, #Repeat Borrower, #Technology, ...             male   \n",
       "487207  #Eco-friendly, #Technology, user_favorite, use...             male   \n",
       "487653  #Eco-friendly, #Technology, user_favorite, use...           female   \n",
       "\n",
       "       repayment_interval        date  \n",
       "202537             bullet  2015-03-05  \n",
       "202823             bullet  2015-03-05  \n",
       "344929             bullet  2015-12-08  \n",
       "351177             bullet  2015-12-21  \n",
       "420953             bullet  2016-05-12  \n",
       "421218             bullet  2016-05-12  \n",
       "487207             bullet  2016-09-08  \n",
       "487653             bullet  2016-09-08  "
      ]
     },
     "execution_count": 13,
     "metadata": {},
     "output_type": "execute_result"
    }
   ],
   "source": [
    "#2. Country_code column: \n",
    "data[data['country_code'].isnull()]"
   ]
  },
  {
   "cell_type": "markdown",
   "metadata": {},
   "source": [
    "#### Obv2: \n",
    "- Country_code: Namibia actually has its country code as NA (2 digits, or NAM - 3digits) so pandas reads it wrong. The country_code column is fine, we just need to replace it as NAM for a less-confuse understanding. "
   ]
  },
  {
   "cell_type": "code",
   "execution_count": 14,
   "metadata": {},
   "outputs": [
    {
     "data": {
      "text/plain": [
       "11298"
      ]
     },
     "execution_count": 14,
     "metadata": {},
     "output_type": "execute_result"
    }
   ],
   "source": [
    "# Gender column: \n",
    "data['borrower_genders'].nunique()"
   ]
  },
  {
   "cell_type": "code",
   "execution_count": 15,
   "metadata": {},
   "outputs": [
    {
     "data": {
      "text/plain": [
       "0            female\n",
       "1    female, female\n",
       "2            female\n",
       "3            female\n",
       "4            female\n",
       "Name: borrower_genders, dtype: object"
      ]
     },
     "execution_count": 15,
     "metadata": {},
     "output_type": "execute_result"
    }
   ],
   "source": [
    "data['borrower_genders'].head(5)"
   ]
  },
  {
   "cell_type": "code",
   "execution_count": 16,
   "metadata": {},
   "outputs": [
    {
     "data": {
      "text/plain": [
       "270567    male, male, male, male, male, male, male, male...\n",
       "514023    male, male, male, male, male, male, male, male...\n",
       "121510    male, male, male, male, male, male, male, male...\n",
       "117813    male, male, male, male, male, male, male, male...\n",
       "519579    male, male, male, male, male, male, male, male...\n",
       "Name: borrower_genders, dtype: object"
      ]
     },
     "execution_count": 16,
     "metadata": {},
     "output_type": "execute_result"
    }
   ],
   "source": [
    "data['borrower_genders'].sort_values(ascending=False).head()"
   ]
  },
  {
   "cell_type": "markdown",
   "metadata": {},
   "source": [
    "#### Obv: \n",
    "- So the problem here is a business project can belong to a single individual or a groupe of single gender or mixed gender, and the column tried to record gender of the whole group that's why gender column has a large unique value.  "
   ]
  },
  {
   "cell_type": "code",
   "execution_count": 17,
   "metadata": {},
   "outputs": [],
   "source": [
    "#funded_time (48k missing), disbursed_time (2k missing)"
   ]
  },
  {
   "cell_type": "code",
   "execution_count": null,
   "metadata": {},
   "outputs": [],
   "source": []
  },
  {
   "cell_type": "code",
   "execution_count": 18,
   "metadata": {},
   "outputs": [],
   "source": [
    "#region (56k missing)"
   ]
  },
  {
   "cell_type": "code",
   "execution_count": null,
   "metadata": {},
   "outputs": [],
   "source": []
  },
  {
   "cell_type": "markdown",
   "metadata": {},
   "source": [
    "# II. Understanding Kiva workflow "
   ]
  },
  {
   "cell_type": "markdown",
   "metadata": {},
   "source": [
    "- Step 1. A borrower applies for a loan (Kiva loans are facilitated through two models, partner and direct, that enable us to reach the greatest number of people around the world.For partner loans, borrowers apply to a local Field Partner, which manages the loan on the ground. For direct loans, borrowers apply through the Kiva website) \n",
    "\n",
    "- Step 2. The loan goes through the underwriting and approval process.\n",
    "\n",
    "- Step 3. The loan is posted to Kiva for lenders to support as a Fundraising project. Lenders crowdfund the loan in increments of $25 or more.\n",
    "\n",
    "Usually, loans on Kiva have 30 days to successfully fundraise. But in most cases, if a loan doesn’t fully fund on Kiva the individual borrower is not directly affected. That’s because most of Kiva’s Field Partners give borrowers access to credit before posting their loans on the Kiva website (\"pre-disbursal\"), so the borrower can use the funds immediately.\n",
    "\n",
    "If the loan successfully funds on Kiva, the crowdfunded money is used to backfill the loan amount, and when the borrower makes repayments they're passed along to the specific Kiva lenders who supported the loan. If a loan doesn’t fully fund (or reach 100%) when it’s posted on Kiva, lenders who did contribute receive their money back in their Kiva accounts and the Field Partner uses its own reserves to pay for the loan."
   ]
  },
  {
   "cell_type": "code",
   "execution_count": 19,
   "metadata": {},
   "outputs": [],
   "source": [
    "# Since the credit involve, let's check the current balance of Kiva:\n",
    "delta_amount_calc = lambda row: row['funded_amount'] - row['loan_amount']\n",
    "data['delta_amount'] = data.apply(func = delta_amount_calc, axis = 1) "
   ]
  },
  {
   "cell_type": "code",
   "execution_count": 20,
   "metadata": {},
   "outputs": [
    {
     "data": {
      "text/plain": [
       "count       671205.000000\n",
       "mean           -56.402046\n",
       "std            391.901150\n",
       "min         -50000.000000\n",
       "50%              0.000000\n",
       "80%              0.000000\n",
       "90%              0.000000\n",
       "99.9999%       148.298500\n",
       "max            400.000000\n",
       "Name: delta_amount, dtype: float64"
      ]
     },
     "execution_count": 20,
     "metadata": {},
     "output_type": "execute_result"
    }
   ],
   "source": [
    "data['delta_amount'].describe(percentiles=[.8,.9,.999999])"
   ]
  },
  {
   "cell_type": "code",
   "execution_count": 21,
   "metadata": {},
   "outputs": [
    {
     "data": {
      "text/plain": [
       "-37857335.0"
      ]
     },
     "execution_count": 21,
     "metadata": {},
     "output_type": "execute_result"
    }
   ],
   "source": [
    "data['delta_amount'].sum()"
   ]
  },
  {
   "cell_type": "code",
   "execution_count": 22,
   "metadata": {},
   "outputs": [
    {
     "data": {
      "text/html": [
       "<div>\n",
       "<style scoped>\n",
       "    .dataframe tbody tr th:only-of-type {\n",
       "        vertical-align: middle;\n",
       "    }\n",
       "\n",
       "    .dataframe tbody tr th {\n",
       "        vertical-align: top;\n",
       "    }\n",
       "\n",
       "    .dataframe thead th {\n",
       "        text-align: right;\n",
       "    }\n",
       "</style>\n",
       "<table border=\"1\" class=\"dataframe\">\n",
       "  <thead>\n",
       "    <tr style=\"text-align: right;\">\n",
       "      <th></th>\n",
       "      <th>delta_amount</th>\n",
       "      <th>activity</th>\n",
       "      <th>sector</th>\n",
       "      <th>funded_amount</th>\n",
       "      <th>loan_amount</th>\n",
       "      <th>country</th>\n",
       "    </tr>\n",
       "  </thead>\n",
       "  <tbody>\n",
       "    <tr>\n",
       "      <th>87</th>\n",
       "      <td>-725.0</td>\n",
       "      <td>Personal Housing Expenses</td>\n",
       "      <td>Housing</td>\n",
       "      <td>4275.0</td>\n",
       "      <td>5000.0</td>\n",
       "      <td>Palestine</td>\n",
       "    </tr>\n",
       "    <tr>\n",
       "      <th>112</th>\n",
       "      <td>-475.0</td>\n",
       "      <td>Electronics Repair</td>\n",
       "      <td>Services</td>\n",
       "      <td>1925.0</td>\n",
       "      <td>2400.0</td>\n",
       "      <td>Iraq</td>\n",
       "    </tr>\n",
       "    <tr>\n",
       "      <th>186</th>\n",
       "      <td>-375.0</td>\n",
       "      <td>Grocery Store</td>\n",
       "      <td>Food</td>\n",
       "      <td>2625.0</td>\n",
       "      <td>3000.0</td>\n",
       "      <td>Iraq</td>\n",
       "    </tr>\n",
       "    <tr>\n",
       "      <th>309</th>\n",
       "      <td>-250.0</td>\n",
       "      <td>Grocery Store</td>\n",
       "      <td>Food</td>\n",
       "      <td>2750.0</td>\n",
       "      <td>3000.0</td>\n",
       "      <td>Iraq</td>\n",
       "    </tr>\n",
       "    <tr>\n",
       "      <th>313</th>\n",
       "      <td>-1700.0</td>\n",
       "      <td>Clothing</td>\n",
       "      <td>Clothing</td>\n",
       "      <td>1300.0</td>\n",
       "      <td>3000.0</td>\n",
       "      <td>Palestine</td>\n",
       "    </tr>\n",
       "  </tbody>\n",
       "</table>\n",
       "</div>"
      ],
      "text/plain": [
       "     delta_amount                   activity    sector  funded_amount  \\\n",
       "87         -725.0  Personal Housing Expenses   Housing         4275.0   \n",
       "112        -475.0         Electronics Repair  Services         1925.0   \n",
       "186        -375.0              Grocery Store      Food         2625.0   \n",
       "309        -250.0              Grocery Store      Food         2750.0   \n",
       "313       -1700.0                   Clothing  Clothing         1300.0   \n",
       "\n",
       "     loan_amount    country  \n",
       "87        5000.0  Palestine  \n",
       "112       2400.0       Iraq  \n",
       "186       3000.0       Iraq  \n",
       "309       3000.0       Iraq  \n",
       "313       3000.0  Palestine  "
      ]
     },
     "execution_count": 22,
     "metadata": {},
     "output_type": "execute_result"
    }
   ],
   "source": [
    "data[data['delta_amount'] != 0][['delta_amount','activity', 'sector', 'funded_amount', 'loan_amount', 'country']].head()"
   ]
  },
  {
   "cell_type": "markdown",
   "metadata": {},
   "source": [
    "#### Obs: \n",
    "- Kiva balance is - 37.857.335 $ mean that the there are quite a number of project hadn't been fully funded by the community & they are having to use a large amount of Partner's credit to backfill it up."
   ]
  },
  {
   "cell_type": "markdown",
   "metadata": {},
   "source": [
    "# III. Data cleansing"
   ]
  },
  {
   "cell_type": "code",
   "execution_count": 23,
   "metadata": {},
   "outputs": [],
   "source": [
    "#1. Correcting values: Country_code column for Namibia \n",
    "\n",
    "country_code_by_country = {'Namibia': 'NA'}\n",
    "replace_country_code = lambda row: country_code_by_country[row['country']] if pd.isnull(row['country_code']) else row['country_code']  \n",
    "data['country_code'] = data.apply(axis=1, func=replace_country_code)"
   ]
  },
  {
   "cell_type": "code",
   "execution_count": 24,
   "metadata": {},
   "outputs": [],
   "source": [
    "#2. Standardizing values: Gender column - group by 4 groups: single woman, single man, all woman, mixed gender.\n",
    "# We chose to specifize female gender since Empowered woman is an important index nows adays. \n",
    "\n",
    "\n",
    "\n"
   ]
  },
  {
   "cell_type": "code",
   "execution_count": 25,
   "metadata": {},
   "outputs": [
    {
     "data": {
      "image/png": "[encoded data removed]",
      "text/plain": [
       "<Figure size 720x720 with 2 Axes>"
      ]
     },
     "metadata": {
      "needs_background": "light"
     },
     "output_type": "display_data"
    }
   ],
   "source": [
    "#3. Fill in funded_time & disbursed_time: \n",
    "# Since \"posted_time\" is fully recorded, we think we can base on this column to fill in the others columns\n",
    "# We have 2 assumptions: the processing time can be either depending on SECTOR or COUNTRY\n",
    "# So we gonna use heatmap to see which factor affect and decided how to continue. \n",
    "\n",
    "correlation=data.corr()\n",
    "plt.figure(figsize=(10,10))\n",
    "sns.set_context(font_scale=2)\n",
    "sns.heatmap(correlation, annot=True,)\n",
    "plt.show()\n",
    "#--> hmm chua duoc, vi time chua dc xu ly thanh numerical values nen heatmap ko plot len duoc."
   ]
  },
  {
   "cell_type": "markdown",
   "metadata": {},
   "source": [
    "#### Hướng 2: \n",
    "- #### we only want to fill in \"funded_time\" column since this column is missing the most data (48k). If we can find an acceptable way to fill in the \"disbursed_time\" then we will do, otherwise we will just remove \"disbursed_time\" since the missing number is very small (2k vs 671k).\n",
    "- #### We then gonna find out the \"average_processing_time\", then plot it up to see if \"Sector\" or \"Country\" or any other factors affect the trends of this new values, then choose how we want to fill it. "
   ]
  },
  {
   "cell_type": "code",
   "execution_count": 26,
   "metadata": {},
   "outputs": [],
   "source": [
    "data['Processing_time']=np.nan\n",
    "\n",
    "\n",
    "\n",
    "\n"
   ]
  },
  {
   "cell_type": "markdown",
   "metadata": {},
   "source": [
    "# IV. Data visualization"
   ]
  },
  {
   "cell_type": "code",
   "execution_count": 28,
   "metadata": {},
   "outputs": [
    {
     "name": "stdout",
     "output_type": "stream",
     "text": [
      "female    1071308\n",
      "male       274904\n",
      "dtype: int64\n"
     ]
    },
    {
     "data": {
      "image/png": "[encoded data removed]",
      "text/plain": [
       "<Figure size 288x288 with 1 Axes>"
      ]
     },
     "metadata": {},
     "output_type": "display_data"
    }
   ],
   "source": [
    "#1. Total Man vs Total Woman borrowers in Kiva: \n",
    "gender_list = []\n",
    "for gender in data[\"borrower_genders\"].values:\n",
    "   if str(gender) != \"nan\":\n",
    "       gender_list.extend( [lst.strip() for lst in gender.split(\",\")] )\n",
    "gender_count = pd.Series(gender_list).value_counts()\n",
    "print(gender_count)\n",
    "labels = (np.array(gender_count.index))\n",
    "sizes = (np.array((gender_count/gender_count.sum())*100))\n",
    "plt.figure(figsize=(4,4))\n",
    "colors = ['darkorange', 'bisque']\n",
    "plt.pie(sizes, labels=labels, colors=colors, startangle=90, autopct='%1.1f%%')\n",
    "plt.show()"
   ]
  },
  {
   "cell_type": "code",
   "execution_count": null,
   "metadata": {},
   "outputs": [],
   "source": [
    "#2. "
   ]
  }
 ],
 "metadata": {
  "kernelspec": {
   "display_name": "Python 3",
   "language": "python",
   "name": "python3"
  },
  "language_info": {
   "codemirror_mode": {
    "name": "ipython",
    "version": 3
   },
   "file_extension": ".py",
   "mimetype": "text/x-python",
   "name": "python",
   "nbconvert_exporter": "python",
   "pygments_lexer": "ipython3",
   "version": "3.7.0"
  }
 },
 "nbformat": 4,
 "nbformat_minor": 2
}
